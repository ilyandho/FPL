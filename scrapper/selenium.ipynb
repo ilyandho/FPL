{
 "cells": [
  {
   "cell_type": "code",
   "execution_count": 5,
   "metadata": {},
   "outputs": [
    {
     "name": "stdout",
     "output_type": "stream",
     "text": [
      "Requirement already satisfied: selenium in /home/ilyandho/.conda/envs/FPL/lib/python3.11/site-packages (4.15.2)\n",
      "Requirement already satisfied: urllib3<3,>=1.26 in /home/ilyandho/.conda/envs/FPL/lib/python3.11/site-packages (from urllib3[socks]<3,>=1.26->selenium) (1.26.18)\n",
      "Requirement already satisfied: trio~=0.17 in /home/ilyandho/.conda/envs/FPL/lib/python3.11/site-packages (from selenium) (0.23.1)\n",
      "Requirement already satisfied: trio-websocket~=0.9 in /home/ilyandho/.conda/envs/FPL/lib/python3.11/site-packages (from selenium) (0.11.1)\n",
      "Requirement already satisfied: certifi>=2021.10.8 in /home/ilyandho/.conda/envs/FPL/lib/python3.11/site-packages (from selenium) (2023.7.22)\n",
      "Requirement already satisfied: attrs>=20.1.0 in /home/ilyandho/.conda/envs/FPL/lib/python3.11/site-packages (from trio~=0.17->selenium) (23.1.0)\n",
      "Requirement already satisfied: sortedcontainers in /home/ilyandho/.conda/envs/FPL/lib/python3.11/site-packages (from trio~=0.17->selenium) (2.4.0)\n",
      "Requirement already satisfied: idna in /home/ilyandho/.conda/envs/FPL/lib/python3.11/site-packages (from trio~=0.17->selenium) (3.4)\n",
      "Requirement already satisfied: outcome in /home/ilyandho/.conda/envs/FPL/lib/python3.11/site-packages (from trio~=0.17->selenium) (1.3.0.post0)\n",
      "Requirement already satisfied: sniffio>=1.3.0 in /home/ilyandho/.conda/envs/FPL/lib/python3.11/site-packages (from trio~=0.17->selenium) (1.3.0)\n",
      "Requirement already satisfied: wsproto>=0.14 in /home/ilyandho/.conda/envs/FPL/lib/python3.11/site-packages (from trio-websocket~=0.9->selenium) (1.2.0)\n",
      "Requirement already satisfied: PySocks!=1.5.7,<2.0,>=1.5.6 in /home/ilyandho/.conda/envs/FPL/lib/python3.11/site-packages (from urllib3[socks]<3,>=1.26->selenium) (1.7.1)\n",
      "Requirement already satisfied: h11<1,>=0.9.0 in /home/ilyandho/.conda/envs/FPL/lib/python3.11/site-packages (from wsproto>=0.14->trio-websocket~=0.9->selenium) (0.14.0)\n",
      "Note: you may need to restart the kernel to use updated packages.\n"
     ]
    }
   ],
   "source": [
    "%pip install selenium"
   ]
  },
  {
   "cell_type": "code",
   "execution_count": 6,
   "metadata": {},
   "outputs": [
    {
     "name": "stdout",
     "output_type": "stream",
     "text": [
      "[]\n",
      "[]\n"
     ]
    }
   ],
   "source": [
    "from selenium import webdriver\n",
    "from selenium.webdriver.common.keys import Keys\n",
    "from selenium.webdriver.common.by import By\n",
    "\n",
    "\n",
    "premLeague = \"https://sports.williamhill.com/betting/en-gb/football/competitions/OB_TY295/English-Premier-League/matches/OB_MGMB/Match-Betting\"\n",
    "\n",
    "driver = webdriver.Firefox()\n",
    "driver.get(premLeague)\n",
    "matches = driver.find_elements(By.CSS_SELECTOR, \".sp-o-market__title > a\")\n",
    "matches_links = []\n",
    "\n",
    "# Get links for the matches\n",
    "# [[match, link]]\n",
    "for match in matches:\n",
    "   matches_links.append([match.text,match.get_attribute('href')])\n",
    "\n",
    "driver.close()\n",
    "\n",
    "# For each link, we fetch the player data\n",
    "# create an object [name, odds, match]\n",
    "#details = [   name, match,\n",
    "#              {\"first\":[first[0],first[1]]} ,\n",
    "               # {\"anytime\":[anytime[0],anytime[1]]},\n",
    "               # {\"last\":[last[0],last[1]]},\n",
    "               # {\"two_or_more\":[two_or_more[0],two_or_more[1]]},\n",
    "               # {\"hattrick\":[hattrick[0],hattrick[1]]},\n",
    "               # {\"first_and_last\":[first_and_last[0],first_and_last[1]]},\n",
    "               # {\"first_or_last\":[first_or_last[0],first_or_last[1]]}\n",
    "            # ]\n",
    "details =[]\n",
    "for link in matches_links: # Here you're getting data for each link .i.e each loop has one match\n",
    "   driver = webdriver.Firefox()\n",
    "   driver.get(link[1])\n",
    "   players = driver.find_elements(By.CSS_SELECTOR,\"article.cpt-goalscorer__player\")\n",
    "\n",
    "   if(len(players)== 0): # check if the details are loaded. Otherwise, it is in the following GW\n",
    "      continue\n",
    "\n",
    "   players_details = []\n",
    "\n",
    "   for index,tag in enumerate(players): # for each match get player details\n",
    "      # Get player name\n",
    "      player = tag.find_element(By.TAG_NAME,'h3').get_attribute(\"textContent\")\n",
    "      odds = tag.find_elements(By.CLASS_NAME,'selectiondetails')\n",
    "\n",
    "      def splitOdds(odd):\n",
    "         if(len(odd.split('/'))>1):\n",
    "            return [odd.split('/')[0],odd.split('/')[1]]\n",
    "         else:\n",
    "            return [odd]\n",
    "\n",
    "      # Get players odds\n",
    "      if(index+1 == len(players)):\n",
    "         # For the no goal scored odd\n",
    "         first = odds[0].get_attribute(\"data-odds\")\n",
    "         details = [{\"name\":player,\"first\":splitOdds(first)}]\n",
    "\n",
    "         players_details.append(details)\n",
    "         continue\n",
    "      else:\n",
    "         first = odds[0].get_attribute(\"data-odds\")\n",
    "         anytime = odds[1].get_attribute(\"data-odds\")\n",
    "         last = odds[2].get_attribute(\"data-odds\")\n",
    "         two_or_more =odds[3].get_attribute(\"data-odds\")\n",
    "         hattrick = odds[4].get_attribute(\"data-odds\")\n",
    "         first_and_last = odds[5].get_attribute(\"data-odds\")\n",
    "         first_or_last = odds[6].get_attribute(\"data-odds\")\n",
    "\n",
    "         details = [{'name':player},{'match':link[0]},{\"first\":[splitOdds(first)]} ,\n",
    "            {\"anytime\":[splitOdds(anytime)]},\n",
    "            {\"last\":[splitOdds(last)]},\n",
    "            {\"two_or_more\":[splitOdds(two_or_more)]},\n",
    "            {\"hattrick\":[splitOdds(hattrick)]},\n",
    "            {\"first_and_last\":[splitOdds(first_and_last)]},\n",
    "            {\"first_or_last\":[splitOdds(first_or_last)]}\n",
    "               ]\n",
    "         players_details.append(details)\n",
    "\n",
    "   # group the match details\n",
    "   details.append(players_details)\n",
    "\n",
    "   driver.close()\n",
    "\n",
    "\n",
    "\n",
    "\n",
    "\n",
    "\n",
    "\n",
    "\n",
    "print(details)\n",
    "print(matches_links)\n"
   ]
  },
  {
   "cell_type": "code",
   "execution_count": 7,
   "metadata": {},
   "outputs": [
    {
     "ename": "IndentationError",
     "evalue": "expected an indented block after 'for' statement on line 4 (3876365271.py, line 8)",
     "output_type": "error",
     "traceback": [
      "\u001b[0;36m  Cell \u001b[0;32mIn[7], line 8\u001b[0;36m\u001b[0m\n\u001b[0;31m    data\u001b[0m\n\u001b[0m    ^\u001b[0m\n\u001b[0;31mIndentationError\u001b[0m\u001b[0;31m:\u001b[0m expected an indented block after 'for' statement on line 4\n"
     ]
    }
   ],
   "source": [
    "import pandas as pd\n",
    "\n",
    "data = pd.DataFrame()\n",
    "for row in details:\n",
    "\n",
    "\n",
    "\n",
    "data"
   ]
  }
 ],
 "metadata": {
  "kernelspec": {
   "display_name": "FPL",
   "language": "python",
   "name": "python3"
  },
  "language_info": {
   "codemirror_mode": {
    "name": "ipython",
    "version": 3
   },
   "file_extension": ".py",
   "mimetype": "text/x-python",
   "name": "python",
   "nbconvert_exporter": "python",
   "pygments_lexer": "ipython3",
   "version": "3.11.5"
  }
 },
 "nbformat": 4,
 "nbformat_minor": 2
}
